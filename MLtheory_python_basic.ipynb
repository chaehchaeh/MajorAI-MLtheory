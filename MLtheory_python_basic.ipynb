{
  "nbformat": 4,
  "nbformat_minor": 0,
  "metadata": {
    "colab": {
      "provenance": [],
      "collapsed_sections": [],
      "authorship_tag": "ABX9TyN6qg3QdwS9AhAeGJnf8qS8",
      "include_colab_link": true
    },
    "kernelspec": {
      "name": "python3",
      "display_name": "Python 3"
    },
    "language_info": {
      "name": "python"
    }
  },
  "cells": [
    {
      "cell_type": "markdown",
      "metadata": {
        "id": "view-in-github",
        "colab_type": "text"
      },
      "source": [
        "<a href=\"https://colab.research.google.com/github/chaehchaeh/MajorAI-MLtheory/blob/main/MLtheory_python_basic.ipynb\" target=\"_parent\"><img src=\"https://colab.research.google.com/assets/colab-badge.svg\" alt=\"Open In Colab\"/></a>"
      ]
    },
    {
      "cell_type": "markdown",
      "source": [
        "#data types\n",
        "1)boolean 참 거짓\n",
        "\n",
        "2)Integer \n",
        "\n",
        "3) Long\n",
        "\n",
        "4) Float 소수\n",
        "\n",
        "5) complex 복소수\n",
        "\n",
        "6) String 문자열\n",
        "\n",
        "7) Dictionary {key: value}\n",
        "\n",
        "8) File \n",
        "\n",
        "9) List\n",
        "\n",
        "10) Set\n",
        "\n",
        "11) Tuple*변경불가한 리스트"
      ],
      "metadata": {
        "id": "-UzaptYhvURx"
      }
    },
    {
      "cell_type": "code",
      "source": [
        "import numpy as np\n",
        "a=np.arange(15).reshape(3,5)\n",
        "a"
      ],
      "metadata": {
        "colab": {
          "base_uri": "https://localhost:8080/"
        },
        "id": "SB5Y_SEJv7c_",
        "outputId": "709f05f7-9f04-4a16-97ed-22945897287b"
      },
      "execution_count": 5,
      "outputs": [
        {
          "output_type": "execute_result",
          "data": {
            "text/plain": [
              "array([[ 0,  1,  2,  3,  4],\n",
              "       [ 5,  6,  7,  8,  9],\n",
              "       [10, 11, 12, 13, 14]])"
            ]
          },
          "metadata": {},
          "execution_count": 5
        }
      ]
    },
    {
      "cell_type": "markdown",
      "source": [
        "#Pandas\n",
        "series: 1 dimensional labelled array(single column)\n",
        "\n",
        "DataFrame: 2 dimensional labelled data structure\n",
        "\n"
      ],
      "metadata": {
        "id": "Ftp6pDh5xOzj"
      }
    },
    {
      "cell_type": "code",
      "source": [
        "import pandas as pd\n",
        "import numpy as np\n",
        "data=np.array(['g','a','u','r','a','v'])\n",
        "s=pd.Series(data)\n",
        "print(s)"
      ],
      "metadata": {
        "colab": {
          "base_uri": "https://localhost:8080/"
        },
        "id": "Z2MpTujrwajb",
        "outputId": "49c1e465-a7ee-4838-b75b-609e52aa15cc"
      },
      "execution_count": 6,
      "outputs": [
        {
          "output_type": "stream",
          "name": "stdout",
          "text": [
            "0    g\n",
            "1    a\n",
            "2    u\n",
            "3    r\n",
            "4    a\n",
            "5    v\n",
            "dtype: object\n"
          ]
        }
      ]
    },
    {
      "cell_type": "code",
      "source": [
        "import pandas as pd\n",
        "import numpy as np\n",
        "data=np.array([\n",
        "    [1,2,3],\n",
        "    [100,120,130],\n",
        "    [11,24,56],\n",
        "    [45,67,98],\n",
        "    [76,91,34]\n",
        "])\n",
        "df=pd.DataFrame(data)\n",
        "df.columns=list(\"ABC\")\n",
        "def function1(col):\n",
        "    \"\"\"\n",
        "    This is functional adds all the values in the array\n",
        "    and returns the half of the sum\n",
        "    \"\"\"\n",
        "    val=sum(col)/2\n",
        "    return(val)\n",
        "\n",
        "#use the function\n",
        "function1(df[\"A\"])\n",
        "\n",
        "####칼럼 이름을 ABC로 지정하는것이 이해안됨"
      ],
      "metadata": {
        "colab": {
          "base_uri": "https://localhost:8080/"
        },
        "id": "9ICAX2uoxu0K",
        "outputId": "3be2f5f8-a22a-4962-e5f6-97de6dba460b"
      },
      "execution_count": 10,
      "outputs": [
        {
          "output_type": "execute_result",
          "data": {
            "text/plain": [
              "116.5"
            ]
          },
          "metadata": {},
          "execution_count": 10
        }
      ]
    },
    {
      "cell_type": "code",
      "source": [
        "print(df)"
      ],
      "metadata": {
        "colab": {
          "base_uri": "https://localhost:8080/"
        },
        "id": "I4whG6dCzSdV",
        "outputId": "376ffc12-c9e8-447c-b976-5a25993187ee"
      },
      "execution_count": 8,
      "outputs": [
        {
          "output_type": "stream",
          "name": "stdout",
          "text": [
            "     A    B    C\n",
            "0    1    2    3\n",
            "1  100  120  130\n",
            "2   11   24   56\n",
            "3   45   67   98\n",
            "4   76   91   34\n"
          ]
        }
      ]
    },
    {
      "cell_type": "markdown",
      "source": [
        "##defining function\n",
        "def functionname(parameters):\n",
        "\n",
        "\"function_docstring\"\n",
        "function_suite\n",
        "\n",
        "return[expression]"
      ],
      "metadata": {
        "id": "tBnx9FlkyjDK"
      }
    },
    {
      "cell_type": "markdown",
      "source": [
        "#Scikit learn\n",
        "-It is built on numpy,Scipy, and matplotlib\n",
        "\n",
        "-it is an open source and can be reused under BSD license\n",
        "\n",
        "-Wide range of machine learning algorithms covering major areas of ML-like(classification, clustering, regression, dimensionality reduction, model selection, etc) can be implemented with the help of Scikit-learn\n"
      ],
      "metadata": {
        "id": "Cw3zAhaRzoRc"
      }
    },
    {
      "cell_type": "code",
      "source": [
        "from sklearn.datasets import load_breast_cancer"
      ],
      "metadata": {
        "id": "a_5zpLa2yeFu"
      },
      "execution_count": 11,
      "outputs": []
    },
    {
      "cell_type": "code",
      "source": [],
      "metadata": {
        "id": "BVAan-u30RCl"
      },
      "execution_count": null,
      "outputs": []
    }
  ]
}